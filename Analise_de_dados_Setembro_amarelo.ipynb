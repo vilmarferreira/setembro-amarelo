{
  "nbformat": 4,
  "nbformat_minor": 0,
  "metadata": {
    "colab": {
      "name": "Analise de dados Setembro amarelo.ipynb",
      "provenance": [],
      "authorship_tag": "ABX9TyO9ujx2xxYr0kThQwnEsn9a",
      "include_colab_link": true
    },
    "kernelspec": {
      "name": "python3",
      "display_name": "Python 3"
    }
  },
  "cells": [
    {
      "cell_type": "markdown",
      "metadata": {
        "id": "view-in-github",
        "colab_type": "text"
      },
      "source": [
        "<a href=\"https://colab.research.google.com/github/vilmarferreira/setembro-amarelo/blob/master/Analise_de_dados_Setembro_amarelo.ipynb\" target=\"_parent\"><img src=\"https://colab.research.google.com/assets/colab-badge.svg\" alt=\"Open In Colab\"/></a>"
      ]
    },
    {
      "cell_type": "code",
      "metadata": {
        "id": "PcCA6hK98uPP",
        "colab_type": "code",
        "colab": {
          "base_uri": "https://localhost:8080/",
          "height": 71
        },
        "outputId": "92ff87b7-030d-4bc1-8636-45e56ba088a2"
      },
      "source": [
        "import numpy as np\n",
        "import pandas as pd\n",
        "import matplotlib.pyplot as plt\n",
        "import seaborn as sns"
      ],
      "execution_count": null,
      "outputs": [
        {
          "output_type": "stream",
          "text": [
            "/usr/local/lib/python3.6/dist-packages/statsmodels/tools/_testing.py:19: FutureWarning: pandas.util.testing is deprecated. Use the functions in the public API at pandas.testing instead.\n",
            "  import pandas.util.testing as tm\n"
          ],
          "name": "stderr"
        }
      ]
    },
    {
      "cell_type": "markdown",
      "metadata": {
        "id": "0gMqb3WkuqP8",
        "colab_type": "text"
      },
      "source": [
        ""
      ]
    },
    {
      "cell_type": "code",
      "metadata": {
        "id": "WWwAsx508voc",
        "colab_type": "code",
        "colab": {}
      },
      "source": [
        "df = pd.read_csv(\"https://raw.githubusercontent.com/vilmarferreira/setembro-amarelo/master/dataset/master.csv\")"
      ],
      "execution_count": null,
      "outputs": []
    },
    {
      "cell_type": "code",
      "metadata": {
        "id": "wgEidsVM82Px",
        "colab_type": "code",
        "colab": {
          "base_uri": "https://localhost:8080/",
          "height": 411
        },
        "outputId": "ba62d903-3620-4867-af30-90b4709857e5"
      },
      "source": [
        "df.head()"
      ],
      "execution_count": null,
      "outputs": [
        {
          "output_type": "execute_result",
          "data": {
            "text/html": [
              "<div>\n",
              "<style scoped>\n",
              "    .dataframe tbody tr th:only-of-type {\n",
              "        vertical-align: middle;\n",
              "    }\n",
              "\n",
              "    .dataframe tbody tr th {\n",
              "        vertical-align: top;\n",
              "    }\n",
              "\n",
              "    .dataframe thead th {\n",
              "        text-align: right;\n",
              "    }\n",
              "</style>\n",
              "<table border=\"1\" class=\"dataframe\">\n",
              "  <thead>\n",
              "    <tr style=\"text-align: right;\">\n",
              "      <th></th>\n",
              "      <th>country</th>\n",
              "      <th>year</th>\n",
              "      <th>sex</th>\n",
              "      <th>age</th>\n",
              "      <th>suicides_no</th>\n",
              "      <th>population</th>\n",
              "      <th>suicides/100k pop</th>\n",
              "      <th>country-year</th>\n",
              "      <th>HDI for year</th>\n",
              "      <th>gdp_for_year ($)</th>\n",
              "      <th>gdp_per_capita ($)</th>\n",
              "      <th>generation</th>\n",
              "    </tr>\n",
              "  </thead>\n",
              "  <tbody>\n",
              "    <tr>\n",
              "      <th>0</th>\n",
              "      <td>Albania</td>\n",
              "      <td>1987</td>\n",
              "      <td>male</td>\n",
              "      <td>15-24 years</td>\n",
              "      <td>21</td>\n",
              "      <td>312900</td>\n",
              "      <td>6.71</td>\n",
              "      <td>Albania1987</td>\n",
              "      <td>NaN</td>\n",
              "      <td>2,156,624,900</td>\n",
              "      <td>796</td>\n",
              "      <td>Generation X</td>\n",
              "    </tr>\n",
              "    <tr>\n",
              "      <th>1</th>\n",
              "      <td>Albania</td>\n",
              "      <td>1987</td>\n",
              "      <td>male</td>\n",
              "      <td>35-54 years</td>\n",
              "      <td>16</td>\n",
              "      <td>308000</td>\n",
              "      <td>5.19</td>\n",
              "      <td>Albania1987</td>\n",
              "      <td>NaN</td>\n",
              "      <td>2,156,624,900</td>\n",
              "      <td>796</td>\n",
              "      <td>Silent</td>\n",
              "    </tr>\n",
              "    <tr>\n",
              "      <th>2</th>\n",
              "      <td>Albania</td>\n",
              "      <td>1987</td>\n",
              "      <td>female</td>\n",
              "      <td>15-24 years</td>\n",
              "      <td>14</td>\n",
              "      <td>289700</td>\n",
              "      <td>4.83</td>\n",
              "      <td>Albania1987</td>\n",
              "      <td>NaN</td>\n",
              "      <td>2,156,624,900</td>\n",
              "      <td>796</td>\n",
              "      <td>Generation X</td>\n",
              "    </tr>\n",
              "    <tr>\n",
              "      <th>3</th>\n",
              "      <td>Albania</td>\n",
              "      <td>1987</td>\n",
              "      <td>male</td>\n",
              "      <td>75+ years</td>\n",
              "      <td>1</td>\n",
              "      <td>21800</td>\n",
              "      <td>4.59</td>\n",
              "      <td>Albania1987</td>\n",
              "      <td>NaN</td>\n",
              "      <td>2,156,624,900</td>\n",
              "      <td>796</td>\n",
              "      <td>G.I. Generation</td>\n",
              "    </tr>\n",
              "    <tr>\n",
              "      <th>4</th>\n",
              "      <td>Albania</td>\n",
              "      <td>1987</td>\n",
              "      <td>male</td>\n",
              "      <td>25-34 years</td>\n",
              "      <td>9</td>\n",
              "      <td>274300</td>\n",
              "      <td>3.28</td>\n",
              "      <td>Albania1987</td>\n",
              "      <td>NaN</td>\n",
              "      <td>2,156,624,900</td>\n",
              "      <td>796</td>\n",
              "      <td>Boomers</td>\n",
              "    </tr>\n",
              "  </tbody>\n",
              "</table>\n",
              "</div>"
            ],
            "text/plain": [
              "   country  year  ... gdp_per_capita ($)       generation\n",
              "0  Albania  1987  ...                796     Generation X\n",
              "1  Albania  1987  ...                796           Silent\n",
              "2  Albania  1987  ...                796     Generation X\n",
              "3  Albania  1987  ...                796  G.I. Generation\n",
              "4  Albania  1987  ...                796          Boomers\n",
              "\n",
              "[5 rows x 12 columns]"
            ]
          },
          "metadata": {
            "tags": []
          },
          "execution_count": 4
        }
      ]
    },
    {
      "cell_type": "code",
      "metadata": {
        "id": "Amc5l7eU85no",
        "colab_type": "code",
        "colab": {}
      },
      "source": [
        "df_brasil = df[df.country == \"Brazil\"].copy()"
      ],
      "execution_count": null,
      "outputs": []
    },
    {
      "cell_type": "code",
      "metadata": {
        "id": "pIEqQdWm888Z",
        "colab_type": "code",
        "colab": {
          "base_uri": "https://localhost:8080/",
          "height": 411
        },
        "outputId": "a21dd01a-60ff-4888-f91e-1763e3bbd2f5"
      },
      "source": [
        "df_brasil.head()"
      ],
      "execution_count": null,
      "outputs": [
        {
          "output_type": "execute_result",
          "data": {
            "text/html": [
              "<div>\n",
              "<style scoped>\n",
              "    .dataframe tbody tr th:only-of-type {\n",
              "        vertical-align: middle;\n",
              "    }\n",
              "\n",
              "    .dataframe tbody tr th {\n",
              "        vertical-align: top;\n",
              "    }\n",
              "\n",
              "    .dataframe thead th {\n",
              "        text-align: right;\n",
              "    }\n",
              "</style>\n",
              "<table border=\"1\" class=\"dataframe\">\n",
              "  <thead>\n",
              "    <tr style=\"text-align: right;\">\n",
              "      <th></th>\n",
              "      <th>country</th>\n",
              "      <th>year</th>\n",
              "      <th>sex</th>\n",
              "      <th>age</th>\n",
              "      <th>suicides_no</th>\n",
              "      <th>population</th>\n",
              "      <th>suicides/100k pop</th>\n",
              "      <th>country-year</th>\n",
              "      <th>HDI for year</th>\n",
              "      <th>gdp_for_year ($)</th>\n",
              "      <th>gdp_per_capita ($)</th>\n",
              "      <th>generation</th>\n",
              "    </tr>\n",
              "  </thead>\n",
              "  <tbody>\n",
              "    <tr>\n",
              "      <th>4172</th>\n",
              "      <td>Brazil</td>\n",
              "      <td>1985</td>\n",
              "      <td>male</td>\n",
              "      <td>75+ years</td>\n",
              "      <td>129</td>\n",
              "      <td>840300</td>\n",
              "      <td>15.35</td>\n",
              "      <td>Brazil1985</td>\n",
              "      <td>0.576</td>\n",
              "      <td>222,942,790,435</td>\n",
              "      <td>1898</td>\n",
              "      <td>G.I. Generation</td>\n",
              "    </tr>\n",
              "    <tr>\n",
              "      <th>4173</th>\n",
              "      <td>Brazil</td>\n",
              "      <td>1985</td>\n",
              "      <td>male</td>\n",
              "      <td>55-74 years</td>\n",
              "      <td>535</td>\n",
              "      <td>5364900</td>\n",
              "      <td>9.97</td>\n",
              "      <td>Brazil1985</td>\n",
              "      <td>0.576</td>\n",
              "      <td>222,942,790,435</td>\n",
              "      <td>1898</td>\n",
              "      <td>G.I. Generation</td>\n",
              "    </tr>\n",
              "    <tr>\n",
              "      <th>4174</th>\n",
              "      <td>Brazil</td>\n",
              "      <td>1985</td>\n",
              "      <td>male</td>\n",
              "      <td>35-54 years</td>\n",
              "      <td>1011</td>\n",
              "      <td>11986300</td>\n",
              "      <td>8.43</td>\n",
              "      <td>Brazil1985</td>\n",
              "      <td>0.576</td>\n",
              "      <td>222,942,790,435</td>\n",
              "      <td>1898</td>\n",
              "      <td>Silent</td>\n",
              "    </tr>\n",
              "    <tr>\n",
              "      <th>4175</th>\n",
              "      <td>Brazil</td>\n",
              "      <td>1985</td>\n",
              "      <td>male</td>\n",
              "      <td>25-34 years</td>\n",
              "      <td>791</td>\n",
              "      <td>10762900</td>\n",
              "      <td>7.35</td>\n",
              "      <td>Brazil1985</td>\n",
              "      <td>0.576</td>\n",
              "      <td>222,942,790,435</td>\n",
              "      <td>1898</td>\n",
              "      <td>Boomers</td>\n",
              "    </tr>\n",
              "    <tr>\n",
              "      <th>4176</th>\n",
              "      <td>Brazil</td>\n",
              "      <td>1985</td>\n",
              "      <td>male</td>\n",
              "      <td>15-24 years</td>\n",
              "      <td>661</td>\n",
              "      <td>13834000</td>\n",
              "      <td>4.78</td>\n",
              "      <td>Brazil1985</td>\n",
              "      <td>0.576</td>\n",
              "      <td>222,942,790,435</td>\n",
              "      <td>1898</td>\n",
              "      <td>Generation X</td>\n",
              "    </tr>\n",
              "  </tbody>\n",
              "</table>\n",
              "</div>"
            ],
            "text/plain": [
              "     country  year  ... gdp_per_capita ($)       generation\n",
              "4172  Brazil  1985  ...               1898  G.I. Generation\n",
              "4173  Brazil  1985  ...               1898  G.I. Generation\n",
              "4174  Brazil  1985  ...               1898           Silent\n",
              "4175  Brazil  1985  ...               1898          Boomers\n",
              "4176  Brazil  1985  ...               1898     Generation X\n",
              "\n",
              "[5 rows x 12 columns]"
            ]
          },
          "metadata": {
            "tags": []
          },
          "execution_count": 6
        }
      ]
    },
    {
      "cell_type": "code",
      "metadata": {
        "id": "mJIwZy0I8_HI",
        "colab_type": "code",
        "colab": {
          "base_uri": "https://localhost:8080/",
          "height": 544
        },
        "outputId": "9beec778-78f9-46e9-c07a-d52cb831f161"
      },
      "source": [
        "# valores ausentes nos dados mundiais\n",
        "print(\"--> Mundial:\")\n",
        "display(df.isnull().sum())\n",
        "\n",
        "print(\"\\n\", \"--.\" * 10, \"\\n\")\n",
        "\n",
        "# velores ausentes nos dados do Brasil\n",
        "print(\"--> Brasil:\")\n",
        "display(df_brasil.isnull().sum())"
      ],
      "execution_count": null,
      "outputs": [
        {
          "output_type": "stream",
          "text": [
            "--> Mundial:\n"
          ],
          "name": "stdout"
        },
        {
          "output_type": "display_data",
          "data": {
            "text/plain": [
              "country                   0\n",
              "year                      0\n",
              "sex                       0\n",
              "age                       0\n",
              "suicides_no               0\n",
              "population                0\n",
              "suicides/100k pop         0\n",
              "country-year              0\n",
              "HDI for year          19456\n",
              " gdp_for_year ($)         0\n",
              "gdp_per_capita ($)        0\n",
              "generation                0\n",
              "dtype: int64"
            ]
          },
          "metadata": {
            "tags": []
          }
        },
        {
          "output_type": "stream",
          "text": [
            "\n",
            " --.--.--.--.--.--.--.--.--.--. \n",
            "\n",
            "--> Brasil:\n"
          ],
          "name": "stdout"
        },
        {
          "output_type": "display_data",
          "data": {
            "text/plain": [
              "country                 0\n",
              "year                    0\n",
              "sex                     0\n",
              "age                     0\n",
              "suicides_no             0\n",
              "population              0\n",
              "suicides/100k pop       0\n",
              "country-year            0\n",
              "HDI for year          252\n",
              " gdp_for_year ($)       0\n",
              "gdp_per_capita ($)      0\n",
              "generation              0\n",
              "dtype: int64"
            ]
          },
          "metadata": {
            "tags": []
          }
        }
      ]
    },
    {
      "cell_type": "code",
      "metadata": {
        "id": "dAMaabyY9JqE",
        "colab_type": "code",
        "colab": {
          "base_uri": "https://localhost:8080/",
          "height": 266
        },
        "outputId": "42ed4031-a13e-407a-92d2-32f0bf9a8189"
      },
      "source": [
        "# pegar a media mundial e do Brasil em suicidios\n",
        "years = df_brasil.year.unique()    # pegar os anos para o eixo x\n",
        "suicides_brasil_mean = df_brasil.groupby('year')['suicides/100k pop'].mean()\n",
        "suicides_world_mean = df.groupby('year')['suicides/100k pop'].mean()\n",
        "\n",
        "# como o Brasil nao tem 2016, vou eliminar do dataframe mundial essa entrada\n",
        "suicides_world_mean.drop(2016, inplace=True)\n",
        "\n",
        "# plotar lineplot comparativo entre Brasil e Mundo\n",
        "ax = sns.lineplot(x=years, y=suicides_brasil_mean, label='Brasil')\n",
        "ax = sns.lineplot(x=years, y=suicides_world_mean, label='Mundo')\n",
        "plt.legend(title=\"Taxa de suicídio\")\n",
        "plt.show()"
      ],
      "execution_count": null,
      "outputs": [
        {
          "output_type": "display_data",
          "data": {
            "image/png": "[encoded data removed]",
            "text/plain": [
              "<Figure size 432x288 with 1 Axes>"
            ]
          },
          "metadata": {
            "tags": [],
            "needs_background": "light"
          }
        }
      ]
    },
    {
      "cell_type": "code",
      "metadata": {
        "id": "YZCRwNf09OHg",
        "colab_type": "code",
        "colab": {
          "base_uri": "https://localhost:8080/",
          "height": 235
        },
        "outputId": "0b6e4479-bbcb-44ed-f707-d8d56df03e3e"
      },
      "source": [
        "# criar uma tabela dinâmica\n",
        "table = pd.pivot_table(df_brasil, values='suicides_no', index=['year'], columns=['age'])\n",
        "\n",
        "# reordenar as tableas para deixar em ordem crescente\n",
        "column_order = ['5-14 years', '15-24 years', '25-34 years', '35-54 years', '55-74 years', '75+ years']\n",
        "table = table.reindex(column_order, axis=1)\n",
        "\n",
        "# ver as 5 primeiras entradas da pivot table\n",
        "table.head()"
      ],
      "execution_count": null,
      "outputs": [
        {
          "output_type": "execute_result",
          "data": {
            "text/html": [
              "<div>\n",
              "<style scoped>\n",
              "    .dataframe tbody tr th:only-of-type {\n",
              "        vertical-align: middle;\n",
              "    }\n",
              "\n",
              "    .dataframe tbody tr th {\n",
              "        vertical-align: top;\n",
              "    }\n",
              "\n",
              "    .dataframe thead th {\n",
              "        text-align: right;\n",
              "    }\n",
              "</style>\n",
              "<table border=\"1\" class=\"dataframe\">\n",
              "  <thead>\n",
              "    <tr style=\"text-align: right;\">\n",
              "      <th>age</th>\n",
              "      <th>5-14 years</th>\n",
              "      <th>15-24 years</th>\n",
              "      <th>25-34 years</th>\n",
              "      <th>35-54 years</th>\n",
              "      <th>55-74 years</th>\n",
              "      <th>75+ years</th>\n",
              "    </tr>\n",
              "    <tr>\n",
              "      <th>year</th>\n",
              "      <th></th>\n",
              "      <th></th>\n",
              "      <th></th>\n",
              "      <th></th>\n",
              "      <th></th>\n",
              "      <th></th>\n",
              "    </tr>\n",
              "  </thead>\n",
              "  <tbody>\n",
              "    <tr>\n",
              "      <th>1985</th>\n",
              "      <td>38.0</td>\n",
              "      <td>470.5</td>\n",
              "      <td>530.0</td>\n",
              "      <td>653.5</td>\n",
              "      <td>341.5</td>\n",
              "      <td>80.5</td>\n",
              "    </tr>\n",
              "    <tr>\n",
              "      <th>1986</th>\n",
              "      <td>31.0</td>\n",
              "      <td>508.0</td>\n",
              "      <td>505.5</td>\n",
              "      <td>651.0</td>\n",
              "      <td>372.0</td>\n",
              "      <td>68.0</td>\n",
              "    </tr>\n",
              "    <tr>\n",
              "      <th>1987</th>\n",
              "      <td>33.5</td>\n",
              "      <td>502.0</td>\n",
              "      <td>565.5</td>\n",
              "      <td>724.5</td>\n",
              "      <td>422.0</td>\n",
              "      <td>88.5</td>\n",
              "    </tr>\n",
              "    <tr>\n",
              "      <th>1988</th>\n",
              "      <td>30.0</td>\n",
              "      <td>472.0</td>\n",
              "      <td>557.5</td>\n",
              "      <td>724.0</td>\n",
              "      <td>356.0</td>\n",
              "      <td>93.5</td>\n",
              "    </tr>\n",
              "    <tr>\n",
              "      <th>1989</th>\n",
              "      <td>31.5</td>\n",
              "      <td>491.5</td>\n",
              "      <td>569.0</td>\n",
              "      <td>692.5</td>\n",
              "      <td>354.5</td>\n",
              "      <td>92.5</td>\n",
              "    </tr>\n",
              "  </tbody>\n",
              "</table>\n",
              "</div>"
            ],
            "text/plain": [
              "age   5-14 years  15-24 years  25-34 years  35-54 years  55-74 years  75+ years\n",
              "year                                                                           \n",
              "1985        38.0        470.5        530.0        653.5        341.5       80.5\n",
              "1986        31.0        508.0        505.5        651.0        372.0       68.0\n",
              "1987        33.5        502.0        565.5        724.5        422.0       88.5\n",
              "1988        30.0        472.0        557.5        724.0        356.0       93.5\n",
              "1989        31.5        491.5        569.0        692.5        354.5       92.5"
            ]
          },
          "metadata": {
            "tags": []
          },
          "execution_count": 8
        }
      ]
    },
    {
      "cell_type": "code",
      "metadata": {
        "id": "YHgg09Qh9bkO",
        "colab_type": "code",
        "colab": {
          "base_uri": "https://localhost:8080/",
          "height": 512
        },
        "outputId": "b1fa9fe3-0343-45cd-ef2a-8aa3cbb2fd8b"
      },
      "source": [
        "# plotar a pivot table das faixas etárias\n",
        "table.plot.bar(stacked=True, figsize=(16,8))\n",
        "plt.legend(title=\"Idade\");"
      ],
      "execution_count": null,
      "outputs": [
        {
          "output_type": "display_data",
          "data": {
            "image/png": "[encoded data removed]",
            "text/plain": [
              "<Figure size 1152x576 with 1 Axes>"
            ]
          },
          "metadata": {
            "tags": [],
            "needs_background": "light"
          }
        }
      ]
    },
    {
      "cell_type": "code",
      "metadata": {
        "id": "owJCdgT89d6U",
        "colab_type": "code",
        "colab": {
          "base_uri": "https://localhost:8080/",
          "height": 153
        },
        "outputId": "edd45cb0-a029-4c7f-9d12-5466bd11c2e6"
      },
      "source": [
        "# estatística de suicídios por faixa etária\n",
        "table[['25-34 years']].loc[2015]\n",
        "table.loc[2015] / table.loc[2015].sum()"
      ],
      "execution_count": null,
      "outputs": [
        {
          "output_type": "execute_result",
          "data": {
            "text/plain": [
              "age\n",
              "5-14 years     0.012094\n",
              "15-24 years    0.159993\n",
              "25-34 years    0.211681\n",
              "35-54 years    0.371585\n",
              "55-74 years    0.194571\n",
              "75+ years      0.050076\n",
              "Name: 2015, dtype: float64"
            ]
          },
          "metadata": {
            "tags": []
          },
          "execution_count": 10
        }
      ]
    },
    {
      "cell_type": "code",
      "metadata": {
        "id": "XhenFi7N9sKK",
        "colab_type": "code",
        "colab": {
          "base_uri": "https://localhost:8080/",
          "height": 248
        },
        "outputId": "173f2dae-c84b-423a-e954-5387220623fd"
      },
      "source": [
        "# extrair valores entre homens e mulheres\n",
        "homens_mulheres = df_brasil.groupby('sex').suicides_no.sum() / df_brasil.groupby('sex').suicides_no.sum().sum()\n",
        "\n",
        "# plotar o gráfico de pizza\n",
        "plt.pie(homens_mulheres, labels=['mulheres', 'homens'], autopct='%1.1f%%', shadow=True);"
      ],
      "execution_count": null,
      "outputs": [
        {
          "output_type": "display_data",
          "data": {
            "image/png": "[encoded data removed]",
            "text/plain": [
              "<Figure size 432x288 with 1 Axes>"
            ]
          },
          "metadata": {
            "tags": []
          }
        }
      ]
    },
    {
      "cell_type": "code",
      "metadata": {
        "id": "2jr_egd29uh9",
        "colab_type": "code",
        "colab": {}
      },
      "source": [
        ""
      ],
      "execution_count": null,
      "outputs": []
    }
  ]
}